{
 "cells": [
  {
   "cell_type": "code",
   "execution_count": 1,
   "metadata": {},
   "outputs": [
    {
     "name": "stdout",
     "output_type": "stream",
     "text": [
      "c:\\Users\\derri\\VSCode\\CS573MushroomProject\n"
     ]
    }
   ],
   "source": [
    "import os\n",
    "\n",
    "os.chdir('..')\n",
    "print(os.getcwd())"
   ]
  },
  {
   "cell_type": "code",
   "execution_count": 2,
   "metadata": {},
   "outputs": [],
   "source": [
    "import models.neural_nets as nn\n",
    "from models.neural_nets import neural_network\n",
    "import torch\n",
    "import pandas as pd"
   ]
  },
  {
   "cell_type": "code",
   "execution_count": 3,
   "metadata": {},
   "outputs": [
    {
     "data": {
      "text/plain": [
       "neural_network(\n",
       "  (model): Sequential(\n",
       "    (0): Linear(in_features=117, out_features=10000, bias=True)\n",
       "    (1): Sigmoid()\n",
       "    (2): Linear(in_features=10000, out_features=10000, bias=True)\n",
       "    (3): ReLU()\n",
       "    (4): Linear(in_features=10000, out_features=10000, bias=True)\n",
       "    (5): ReLU()\n",
       "    (6): Linear(in_features=10000, out_features=2, bias=True)\n",
       "  )\n",
       ")"
      ]
     },
     "execution_count": 3,
     "metadata": {},
     "output_type": "execute_result"
    }
   ],
   "source": [
    "#train_set, valid_set, test_set  = nn.split(nn.df, train_ratio = 0.9, validation_ratio = 0)\n",
    "model = nn.neural_network(n=10000)\n",
    "model.load_state_dict(torch.load(\"nn_CEL\", weights_only=True))\n",
    "model.eval()"
   ]
  },
  {
   "cell_type": "code",
   "execution_count": 4,
   "metadata": {},
   "outputs": [
    {
     "name": "stdout",
     "output_type": "stream",
     "text": [
      "      cap-shapenum  cap-surfacenum  cap-colornum  bruisesnum  odornum  \\\n",
      "0                5               2             4           1        6   \n",
      "1                5               2             9           1        0   \n",
      "2                0               2             8           1        3   \n",
      "3                5               3             8           1        6   \n",
      "4                5               2             3           0        5   \n",
      "...            ...             ...           ...         ...      ...   \n",
      "8119             3               2             4           0        5   \n",
      "8120             5               2             4           0        5   \n",
      "8121             2               2             4           0        5   \n",
      "8122             3               3             4           0        8   \n",
      "8123             5               2             4           0        5   \n",
      "\n",
      "      gill-attachmentnum  gill-spacingnum  gill-sizenum  gill-colornum  \\\n",
      "0                      1                0             1              4   \n",
      "1                      1                0             0              4   \n",
      "2                      1                0             0              5   \n",
      "3                      1                0             1              5   \n",
      "4                      1                1             0              4   \n",
      "...                  ...              ...           ...            ...   \n",
      "8119                   0                0             0             11   \n",
      "8120                   0                0             0             11   \n",
      "8121                   0                0             0              5   \n",
      "8122                   1                0             1              0   \n",
      "8123                   0                0             0             11   \n",
      "\n",
      "      stalk-shapenum  ...  stalk-surface-below-ringnum  \\\n",
      "0                  0  ...                            2   \n",
      "1                  0  ...                            2   \n",
      "2                  0  ...                            2   \n",
      "3                  0  ...                            2   \n",
      "4                  1  ...                            2   \n",
      "...              ...  ...                          ...   \n",
      "8119               0  ...                            2   \n",
      "8120               0  ...                            2   \n",
      "8121               0  ...                            2   \n",
      "8122               1  ...                            1   \n",
      "8123               0  ...                            2   \n",
      "\n",
      "      stalk-color-above-ringnum  stalk-color-below-ringnum  veil-typenum  \\\n",
      "0                             7                          7             0   \n",
      "1                             7                          7             0   \n",
      "2                             7                          7             0   \n",
      "3                             7                          7             0   \n",
      "4                             7                          7             0   \n",
      "...                         ...                        ...           ...   \n",
      "8119                          5                          5             0   \n",
      "8120                          5                          5             0   \n",
      "8121                          5                          5             0   \n",
      "8122                          7                          7             0   \n",
      "8123                          5                          5             0   \n",
      "\n",
      "      veil-colornum  ring-numbernum  ring-typenum  spore-print-colornum  \\\n",
      "0                 2               1             4                     2   \n",
      "1                 2               1             4                     3   \n",
      "2                 2               1             4                     3   \n",
      "3                 2               1             4                     2   \n",
      "4                 2               1             0                     3   \n",
      "...             ...             ...           ...                   ...   \n",
      "8119              1               1             4                     0   \n",
      "8120              0               1             4                     0   \n",
      "8121              1               1             4                     0   \n",
      "8122              2               1             0                     7   \n",
      "8123              1               1             4                     4   \n",
      "\n",
      "      populationnum  habitatnum  \n",
      "0                 3           5  \n",
      "1                 2           1  \n",
      "2                 2           3  \n",
      "3                 3           5  \n",
      "4                 0           1  \n",
      "...             ...         ...  \n",
      "8119              1           2  \n",
      "8120              4           2  \n",
      "8121              1           2  \n",
      "8122              4           2  \n",
      "8123              1           2  \n",
      "\n",
      "[8124 rows x 22 columns]\n"
     ]
    }
   ],
   "source": [
    "df = pd.read_csv(\"mushroom_dataset_enum.csv\")\n",
    "\n",
    "features = [col for col in df.columns if col != 'class' and col != 'poison' and col != 'edible' and col != \"Unnamed: 0\"]\n",
    "target = [\"poison\", 'edible']\n",
    "print(df[features])\n",
    "\n",
    "def evaluate_acc(model, data) :\n",
    "    x = torch.from_numpy(data[features].values).int()\n",
    "    y = torch.from_numpy(data[target].values).int()\n",
    "\n",
    "    y_hat = torch.nn.Softmax(dim=1)(model(x))\n",
    "    pred = torch.tensor([1 if i[0] >= 0.5 else 0 for i in y_hat])\n",
    "    print(\"sample:\",y_hat[:5],y[:5])\n",
    "    #print(y[:,0])\n",
    "    return 1-torch.sum(torch.abs(pred-y[:,0])).item()/pred.shape[0]"
   ]
  },
  {
   "cell_type": "code",
   "execution_count": 5,
   "metadata": {},
   "outputs": [
    {
     "name": "stdout",
     "output_type": "stream",
     "text": [
      "sample: tensor([[0.7010, 0.2990],\n",
      "        [0.8998, 0.1002],\n",
      "        [0.9335, 0.0665],\n",
      "        [0.7969, 0.2031],\n",
      "        [0.8659, 0.1341]], grad_fn=<SliceBackward0>) tensor([[1, 0],\n",
      "        [0, 1],\n",
      "        [0, 1],\n",
      "        [1, 0],\n",
      "        [0, 1]], dtype=torch.int32)\n",
      "test: 0.43783850320039386\n"
     ]
    }
   ],
   "source": [
    "test_set = pd.read_csv(\"testing.csv\")\n",
    "print(\"test:\", evaluate_acc(model, df))"
   ]
  }
 ],
 "metadata": {
  "kernelspec": {
   "display_name": ".venv",
   "language": "python",
   "name": "python3"
  },
  "language_info": {
   "codemirror_mode": {
    "name": "ipython",
    "version": 3
   },
   "file_extension": ".py",
   "mimetype": "text/x-python",
   "name": "python",
   "nbconvert_exporter": "python",
   "pygments_lexer": "ipython3",
   "version": "3.10.11"
  }
 },
 "nbformat": 4,
 "nbformat_minor": 2
}
