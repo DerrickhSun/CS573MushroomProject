{
 "cells": [
  {
   "cell_type": "code",
   "execution_count": 1,
   "id": "d133373f-915d-4503-ac4f-85a24d98f922",
   "metadata": {
    "colab": {
     "base_uri": "https://localhost:8080/"
    },
    "id": "d133373f-915d-4503-ac4f-85a24d98f922",
    "outputId": "6d921636-2a0a-40fc-a7ae-85771290ced7"
   },
   "outputs": [
    {
     "name": "stdout",
     "output_type": "stream",
     "text": [
      "Dataset already exists.\n"
     ]
    }
   ],
   "source": [
    "import os\n",
    "import requests\n",
    "\n",
    "def download_file(url, dest_path):\n",
    "    response = requests.get(url, stream=True)\n",
    "    response.raise_for_status()  # ensure we notice bad responses\n",
    "    with open(dest_path, 'wb') as file:\n",
    "        for chunk in response.iter_content(chunk_size=8192):\n",
    "            file.write(chunk)\n",
    "    print(f\"Downloaded file saved to {dest_path}\")\n",
    "\n",
    "# Replace this with your Bitly link\n",
    "dataset_url = \"https://bit.ly/4jnPqPB\"\n",
    "\n",
    "# Check if file already exists\n",
    "dataset_path = \"mushroom_dataset.csv\"  # change the filename as needed\n",
    "if not os.path.exists(dataset_path):\n",
    "    user_input = input(\"Dataset not found. Would you like to download it? (y/n): \")\n",
    "    if user_input.lower() == 'y':\n",
    "        download_file(dataset_url, dataset_path)\n",
    "    else:\n",
    "        print(\"Dataset download skipped. Please ensure the dataset is in the correct path before running the code.\")\n",
    "else:\n",
    "    print(\"Dataset already exists.\")\n"
   ]
  },
  {
   "cell_type": "code",
   "execution_count": 2,
   "id": "252883eb-ecb9-4fbc-a24c-3523e5f9034c",
   "metadata": {
    "colab": {
     "base_uri": "https://localhost:8080/"
    },
    "id": "252883eb-ecb9-4fbc-a24c-3523e5f9034c",
    "outputId": "ac343a98-f0a6-4900-9ae8-639ec0eb5065"
   },
   "outputs": [
    {
     "name": "stdout",
     "output_type": "stream",
     "text": [
      "Original Data Sample:\n",
      "  class cap-shape cap-surface cap-color bruises odor gill-attachment  \\\n",
      "0     p         x           s         n       t    p               f   \n",
      "1     e         x           s         y       t    a               f   \n",
      "2     e         b           s         w       t    l               f   \n",
      "3     p         x           y         w       t    p               f   \n",
      "4     e         x           s         g       f    n               f   \n",
      "\n",
      "  gill-spacing gill-size gill-color  ... stalk-surface-below-ring  \\\n",
      "0            c         n          k  ...                        s   \n",
      "1            c         b          k  ...                        s   \n",
      "2            c         b          n  ...                        s   \n",
      "3            c         n          n  ...                        s   \n",
      "4            w         b          k  ...                        s   \n",
      "\n",
      "  stalk-color-above-ring stalk-color-below-ring veil-type veil-color  \\\n",
      "0                      w                      w         p          w   \n",
      "1                      w                      w         p          w   \n",
      "2                      w                      w         p          w   \n",
      "3                      w                      w         p          w   \n",
      "4                      w                      w         p          w   \n",
      "\n",
      "  ring-number ring-type spore-print-color population habitat  \n",
      "0           o         p                 k          s       u  \n",
      "1           o         p                 n          n       g  \n",
      "2           o         p                 n          n       m  \n",
      "3           o         p                 k          s       u  \n",
      "4           o         e                 n          a       g  \n",
      "\n",
      "[5 rows x 23 columns]\n",
      "\n",
      "Label Encoded Data Sample:\n",
      "   class  cap-shape  cap-surface  cap-color  bruises  odor  gill-attachment  \\\n",
      "0      1          5            2          4        1     6                1   \n",
      "1      0          5            2          9        1     0                1   \n",
      "2      0          0            2          8        1     3                1   \n",
      "3      1          5            3          8        1     6                1   \n",
      "4      0          5            2          3        0     5                1   \n",
      "\n",
      "   gill-spacing  gill-size  gill-color  ...  stalk-surface-below-ring  \\\n",
      "0             0          1           4  ...                         2   \n",
      "1             0          0           4  ...                         2   \n",
      "2             0          0           5  ...                         2   \n",
      "3             0          1           5  ...                         2   \n",
      "4             1          0           4  ...                         2   \n",
      "\n",
      "   stalk-color-above-ring  stalk-color-below-ring  veil-type  veil-color  \\\n",
      "0                       7                       7          0           2   \n",
      "1                       7                       7          0           2   \n",
      "2                       7                       7          0           2   \n",
      "3                       7                       7          0           2   \n",
      "4                       7                       7          0           2   \n",
      "\n",
      "   ring-number  ring-type  spore-print-color  population  habitat  \n",
      "0            1          4                  2           3        5  \n",
      "1            1          4                  3           2        1  \n",
      "2            1          4                  3           2        3  \n",
      "3            1          4                  2           3        5  \n",
      "4            1          0                  3           0        1  \n",
      "\n",
      "[5 rows x 23 columns]\n"
     ]
    }
   ],
   "source": [
    "import pandas as pd\n",
    "from sklearn.preprocessing import LabelEncoder\n",
    "\n",
    "# Load the dataset (adjust the filename/path as needed)\n",
    "df = pd.read_csv(\"mushroom_dataset.csv\")\n",
    "\n",
    "# Display first few rows to understand the structure\n",
    "print(\"Original Data Sample:\")\n",
    "print(df.head())\n",
    "\n",
    "# Initialize a dictionary to store label encoders for each column (in case you need to reverse the encoding later)\n",
    "label_encoders = {}\n",
    "\n",
    "# Apply Label Encoding to each column\n",
    "for col in df.columns:\n",
    "    le = LabelEncoder()\n",
    "    df[col] = le.fit_transform(df[col])\n",
    "    label_encoders[col] = le\n",
    "\n",
    "print(\"\\nLabel Encoded Data Sample:\")\n",
    "print(df.head())"
   ]
  },
  {
   "cell_type": "code",
   "execution_count": 3,
   "id": "30c81622-aab0-44c4-92e4-dabdd495d37a",
   "metadata": {
    "colab": {
     "base_uri": "https://localhost:8080/",
     "height": 927
    },
    "id": "30c81622-aab0-44c4-92e4-dabdd495d37a",
    "outputId": "6860374d-fbc3-4552-9cb7-12ceb9bd882f"
   },
   "outputs": [
    {
     "data": {
      "image/png": "[encoded data removed]",
      "text/plain": [
       "<Figure size 640x480 with 1 Axes>"
      ]
     },
     "metadata": {},
     "output_type": "display_data"
    },
    {
     "data": {
      "image/png": "[encoded data removed]",
      "text/plain": [
       "<Figure size 640x480 with 1 Axes>"
      ]
     },
     "metadata": {},
     "output_type": "display_data"
    }
   ],
   "source": [
    "import pandas as pd\n",
    "import matplotlib.pyplot as plt\n",
    "import numpy as np\n",
    "from scipy.stats import gaussian_kde\n",
    "\n",
    "\n",
    "# Select a feature to visualize. For example, \"cap-shape\".\n",
    "feature = 'cap-shape'\n",
    "data = df[feature]\n",
    "\n",
    "# ---------------------------\n",
    "# 1. Histogram Plot\n",
    "# ---------------------------\n",
    "plt.figure()\n",
    "# Create bins centered on each integer value representing each category.\n",
    "bins = np.arange(data.min(), data.max() + 2) - 0.5\n",
    "plt.hist(data, bins=bins, edgecolor='black')\n",
    "plt.title(f'Histogram of {feature}')\n",
    "plt.xlabel(feature)\n",
    "plt.ylabel('Frequency')\n",
    "plt.xticks(np.arange(data.min(), data.max() + 1))\n",
    "plt.show()\n",
    "\n",
    "# ---------------------------\n",
    "# 2. Kernel Density Estimation (KDE) Plot\n",
    "# ---------------------------\n",
    "# Note: KDE plots are generally used for continuous data. Since our feature is categorical,\n",
    "# the KDE plot is only for exploratory purposes.\n",
    "plt.figure()\n",
    "# Calculate the density using Gaussian KDE\n",
    "density = gaussian_kde(data)\n",
    "x_vals = np.linspace(data.min(), data.max(), 200)\n",
    "plt.plot(x_vals, density(x_vals))\n",
    "plt.title(f'Kernel Density Estimation of {feature}')\n",
    "plt.xlabel(feature)\n",
    "plt.ylabel('Density')\n",
    "plt.show()\n"
   ]
  },
  {
   "cell_type": "code",
   "execution_count": 4,
   "id": "2bef6366-a50a-49fe-b783-6e262c85a4c1",
   "metadata": {
    "colab": {
     "base_uri": "https://localhost:8080/",
     "height": 957
    },
    "id": "2bef6366-a50a-49fe-b783-6e262c85a4c1",
    "outputId": "eae4bc81-9e43-4baa-b0f0-6c2662f23698"
   },
   "outputs": [
    {
     "data": {
      "image/png": "[encoded data removed]",
      "text/plain": [
       "<Figure size 800x500 with 1 Axes>"
      ]
     },
     "metadata": {},
     "output_type": "display_data"
    },
    {
     "data": {
      "image/png": "[encoded data removed]",
      "text/plain": [
       "<Figure size 800x500 with 2 Axes>"
      ]
     },
     "metadata": {},
     "output_type": "display_data"
    }
   ],
   "source": [
    "import pandas as pd\n",
    "import matplotlib.pyplot as plt\n",
    "import numpy as np\n",
    "\n",
    "# Load the dataset (update the path/filename as needed)\n",
    "df = pd.read_csv(\"mushroom_dataset.csv\")\n",
    "\n",
    "# Example: Using 'cap-shape' as a feature to visualize its distribution.\n",
    "# Assuming the CSV is already label encoded.\n",
    "# If not, you can run LabelEncoder on 'cap-shape' as shown earlier.\n",
    "\n",
    "# ---------------------------\n",
    "# Bar Plot for 'cap-shape'\n",
    "# ---------------------------\n",
    "plt.figure(figsize=(8, 5))\n",
    "# Count the occurrences of each category in 'cap-shape'\n",
    "cap_shape_counts = df['cap-shape'].value_counts().sort_index()\n",
    "plt.bar(cap_shape_counts.index, cap_shape_counts.values, color='skyblue', edgecolor='black')\n",
    "plt.title('Distribution of Cap Shape')\n",
    "plt.xlabel('Cap Shape (encoded)')\n",
    "plt.ylabel('Frequency')\n",
    "plt.xticks(cap_shape_counts.index)  # these are encoded values\n",
    "plt.show()\n",
    "\n",
    "# ---------------------------\n",
    "# Heatmap for two categorical features: 'odor' and 'class'\n",
    "# ---------------------------\n",
    "# Create a cross-tabulation (contingency table) between 'odor' and 'class'\n",
    "crosstab = pd.crosstab(df['odor'], df['class'])\n",
    "\n",
    "plt.figure(figsize=(8, 5))\n",
    "plt.imshow(crosstab, cmap='viridis', interpolation='nearest')\n",
    "plt.title('Heatmap of Odor vs. Class')\n",
    "plt.xlabel('Class (edible/poisonous)')\n",
    "plt.ylabel('Odor (encoded)')\n",
    "plt.colorbar(label='Frequency')\n",
    "\n",
    "# Set ticks and labels using the crosstab index and columns\n",
    "plt.xticks(np.arange(len(crosstab.columns)), crosstab.columns)\n",
    "plt.yticks(np.arange(len(crosstab.index)), crosstab.index)\n",
    "plt.show()\n",
    "\n"
   ]
  },
  {
   "cell_type": "markdown",
   "id": "2152cfc6-552a-4b2c-8732-3d63d2fad8de",
   "metadata": {
    "id": "2152cfc6-552a-4b2c-8732-3d63d2fad8de"
   },
   "source": [
    "\n",
    "foul smelling mushrooms seem to be poisonous really often,\n",
    "no odor mushrooms seem to be edible really often\n",
    "and it seems like there isn't much of a pattern for other odors (like fishy odors, creosote, almond, anise)"
   ]
  },
  {
   "cell_type": "code",
   "execution_count": 5,
   "id": "bb05289e-eb68-448e-9f10-bf616a2db4aa",
   "metadata": {
    "colab": {
     "base_uri": "https://localhost:8080/",
     "height": 1000
    },
    "id": "bb05289e-eb68-448e-9f10-bf616a2db4aa",
    "outputId": "b89618cb-3ad7-4741-e3d6-8cb277fd0c8f"
   },
   "outputs": [
    {
     "ename": "ModuleNotFoundError",
     "evalue": "No module named 'tensorflow'",
     "output_type": "error",
     "traceback": [
      "\u001b[31m---------------------------------------------------------------------------\u001b[39m",
      "\u001b[31mModuleNotFoundError\u001b[39m                       Traceback (most recent call last)",
      "\u001b[36mCell\u001b[39m\u001b[36m \u001b[39m\u001b[32mIn[5]\u001b[39m\u001b[32m, line 3\u001b[39m\n\u001b[32m      1\u001b[39m \u001b[38;5;28;01mimport\u001b[39;00m\u001b[38;5;250m \u001b[39m\u001b[34;01mpandas\u001b[39;00m\u001b[38;5;250m \u001b[39m\u001b[38;5;28;01mas\u001b[39;00m\u001b[38;5;250m \u001b[39m\u001b[34;01mpd\u001b[39;00m\n\u001b[32m      2\u001b[39m \u001b[38;5;28;01mimport\u001b[39;00m\u001b[38;5;250m \u001b[39m\u001b[34;01mnumpy\u001b[39;00m\u001b[38;5;250m \u001b[39m\u001b[38;5;28;01mas\u001b[39;00m\u001b[38;5;250m \u001b[39m\u001b[34;01mnp\u001b[39;00m\n\u001b[32m----> \u001b[39m\u001b[32m3\u001b[39m \u001b[38;5;28;01mfrom\u001b[39;00m\u001b[38;5;250m \u001b[39m\u001b[34;01mtensorflow\u001b[39;00m\u001b[34;01m.\u001b[39;00m\u001b[34;01mkeras\u001b[39;00m\u001b[34;01m.\u001b[39;00m\u001b[34;01mmodels\u001b[39;00m\u001b[38;5;250m \u001b[39m\u001b[38;5;28;01mimport\u001b[39;00m Model\n\u001b[32m      4\u001b[39m \u001b[38;5;28;01mfrom\u001b[39;00m\u001b[38;5;250m \u001b[39m\u001b[34;01mtensorflow\u001b[39;00m\u001b[34;01m.\u001b[39;00m\u001b[34;01mkeras\u001b[39;00m\u001b[34;01m.\u001b[39;00m\u001b[34;01mlayers\u001b[39;00m\u001b[38;5;250m \u001b[39m\u001b[38;5;28;01mimport\u001b[39;00m Input, Embedding, Dense, Flatten, Concatenate\n\u001b[32m      5\u001b[39m \u001b[38;5;28;01mfrom\u001b[39;00m\u001b[38;5;250m \u001b[39m\u001b[34;01mtensorflow\u001b[39;00m\u001b[34;01m.\u001b[39;00m\u001b[34;01mkeras\u001b[39;00m\u001b[34;01m.\u001b[39;00m\u001b[34;01moptimizers\u001b[39;00m\u001b[38;5;250m \u001b[39m\u001b[38;5;28;01mimport\u001b[39;00m Adam\n",
      "\u001b[31mModuleNotFoundError\u001b[39m: No module named 'tensorflow'"
     ]
    }
   ],
   "source": [
    "# import pandas as pd\n",
    "# import numpy as np\n",
    "# from tensorflow.keras.models import Model\n",
    "# from tensorflow.keras.layers import Input, Embedding, Dense, Flatten, Concatenate\n",
    "# from tensorflow.keras.optimizers import Adam\n",
    "\n",
    "# # Load the dataset (assumes it's already label encoded)\n",
    "# df = pd.read_csv(\"mushroom_dataset.csv\")\n",
    "\n",
    "# # Assume the target column is 'class' (for edible vs poisonous)\n",
    "# features = [col for col in df.columns if col != 'class']\n",
    "\n",
    "# # Create a list for inputs and embeddings\n",
    "# embedding_inputs = []\n",
    "# embedding_layers = []\n",
    "\n",
    "# # For each feature, set up an input and an embedding layer.\n",
    "# # We'll use a simple heuristic for the embedding dimension: min(50, (n_categories + 1) // 2)\n",
    "# for feature in features:\n",
    "#     n_categories = df[feature].nunique()\n",
    "#     embed_dim = min(50, (n_categories + 1) // 2)\n",
    "\n",
    "#     # Input layer for this feature\n",
    "#     input_f = Input(shape=(1,), name=f\"{feature}_input\")\n",
    "#     embedding_inputs.append(input_f)\n",
    "\n",
    "#     # Embedding layer: input_dim is n_categories and output_dim is embed_dim.\n",
    "#     embed_layer = Embedding(input_dim=n_categories, output_dim=embed_dim, name=f\"{feature}_embedding\")(input_f)\n",
    "#     embed_layer = Flatten()(embed_layer)\n",
    "#     embedding_layers.append(embed_layer)\n",
    "\n",
    "# # Concatenate all the embeddings\n",
    "# concatenated = Concatenate()(embedding_layers)\n",
    "\n",
    "# # Add a couple of dense layers (adjust as needed)\n",
    "# dense = Dense(64, activation='relu')(concatenated)\n",
    "# output = Dense(1, activation='sigmoid')(dense)\n",
    "\n",
    "# # Build the model\n",
    "# model = Model(inputs=embedding_inputs, outputs=output)\n",
    "# model.compile(optimizer=Adam(0.001), loss='binary_crossentropy', metrics=['accuracy'])\n",
    "# model.summary()\n"
   ]
  },
  {
   "cell_type": "code",
   "execution_count": 6,
   "id": "3yw97xMQooF2",
   "metadata": {
    "id": "3yw97xMQooF2"
   },
   "outputs": [],
   "source": [
    "import os\n",
    "import pandas as pd\n",
    "import numpy as np\n",
    "from sklearn.preprocessing import LabelEncoder\n",
    "import math"
   ]
  },
  {
   "cell_type": "code",
   "execution_count": 7,
   "id": "XPxJb6Ppo8Il",
   "metadata": {
    "colab": {
     "base_uri": "https://localhost:8080/"
    },
    "id": "XPxJb6Ppo8Il",
    "outputId": "07b50169-a5ce-45b5-f858-50a3461efc6d"
   },
   "outputs": [
    {
     "name": "stdout",
     "output_type": "stream",
     "text": [
      "Original Label Encoded Data Sample:\n",
      "   class  cap-shape  cap-surface  cap-color  bruises  odor  gill-attachment  \\\n",
      "0      1          5            2          4        1     6                1   \n",
      "1      0          5            2          9        1     0                1   \n",
      "2      0          0            2          8        1     3                1   \n",
      "3      1          5            3          8        1     6                1   \n",
      "4      0          5            2          3        0     5                1   \n",
      "\n",
      "   gill-spacing  gill-size  gill-color  ...  stalk-surface-below-ring  \\\n",
      "0             0          1           4  ...                         2   \n",
      "1             0          0           4  ...                         2   \n",
      "2             0          0           5  ...                         2   \n",
      "3             0          1           5  ...                         2   \n",
      "4             1          0           4  ...                         2   \n",
      "\n",
      "   stalk-color-above-ring  stalk-color-below-ring  veil-type  veil-color  \\\n",
      "0                       7                       7          0           2   \n",
      "1                       7                       7          0           2   \n",
      "2                       7                       7          0           2   \n",
      "3                       7                       7          0           2   \n",
      "4                       7                       7          0           2   \n",
      "\n",
      "   ring-number  ring-type  spore-print-color  population  habitat  \n",
      "0            1          4                  2           3        5  \n",
      "1            1          4                  3           2        1  \n",
      "2            1          4                  3           2        3  \n",
      "3            1          4                  2           3        5  \n",
      "4            1          0                  3           0        1  \n",
      "\n",
      "[5 rows x 23 columns]\n"
     ]
    }
   ],
   "source": [
    "dataset_path = \"mushroom_dataset.csv\"\n",
    "if not os.path.exists(dataset_path):\n",
    "    raise FileNotFoundError(\"Dataset not found.\")\n",
    "\n",
    "df = pd.read_csv(dataset_path)\n",
    "\n",
    "# Create a dictionary to store encoders (if you need to reverse the encoding later)\n",
    "label_encoders = {}\n",
    "for col in df.columns:\n",
    "    le = LabelEncoder()\n",
    "    df[col] = le.fit_transform(df[col])\n",
    "    label_encoders[col] = le\n",
    "\n",
    "print(\"Original Label Encoded Data Sample:\")\n",
    "print(df.head())\n",
    "\n",
    "# Prepare Data for Tree Building\n",
    "target_col = 'class'\n",
    "feature_names = [col for col in df.columns if col != target_col]\n",
    "X = df[feature_names].values  # Features as numpy array\n",
    "y = df[target_col].values     # Target labels as numpy array\n"
   ]
  },
  {
   "cell_type": "code",
   "execution_count": 8,
   "id": "_anH8OKwo-4u",
   "metadata": {
    "id": "_anH8OKwo-4u"
   },
   "outputs": [],
   "source": [
    "# Helper Functions: Entropy, Information Gain & Majority Class\n",
    "def entropy(y):\n",
    "    \"\"\"Compute the entropy of a label distribution.\"\"\"\n",
    "    unique, counts = np.unique(y, return_counts=True)\n",
    "    probabilities = counts / counts.sum()\n",
    "    # Adding a small epsilon to avoid log2(0) issues.\n",
    "    return -np.sum(probabilities * np.log2(probabilities + 1e-9))\n",
    "\n",
    "def information_gain(X, y, feature_index):\n",
    "    \"\"\"\n",
    "    Compute the information gain obtained by splitting on the column at feature_index.\n",
    "    X : 2D numpy array with shape (n_samples, n_features) from the current sub-problem.\n",
    "    y : 1D numpy array of labels corresponding to X.\n",
    "    feature_index: integer index in the current feature set.\n",
    "    \"\"\"\n",
    "    total_entropy = entropy(y)\n",
    "    values, counts = np.unique(X[:, feature_index], return_counts=True)\n",
    "    weighted_entropy = 0\n",
    "    for i, val in enumerate(values):\n",
    "        subset_y = y[X[:, feature_index] == val]\n",
    "        weighted_entropy += counts[i] / len(y) * entropy(subset_y)\n",
    "    return total_entropy - weighted_entropy\n",
    "\n",
    "def most_common(y):\n",
    "    \"\"\"Return the most common label in y.\"\"\"\n",
    "    unique, counts = np.unique(y, return_counts=True)\n",
    "    return unique[np.argmax(counts)]\n"
   ]
  },
  {
   "cell_type": "code",
   "execution_count": 9,
   "id": "OS2IU5kvpFFb",
   "metadata": {
    "id": "OS2IU5kvpFFb"
   },
   "outputs": [],
   "source": [
    "# Decision Tree Implementation (ID3)\n",
    "class Node:\n",
    "    def __init__(self, feature_index=None, value=None, branches=None, is_leaf=False):\n",
    "        \"\"\"\n",
    "        A Node in the decision tree.\n",
    "          - feature_index: index (in the current feature array) of the feature used for splitting.\n",
    "          - value: if internal, this is the feature (name) used to split; if leaf, the predicted label.\n",
    "          - branches: dictionary mapping each feature value to a child Node.\n",
    "          - is_leaf: flag indicating whether this node is a leaf.\n",
    "        \"\"\"\n",
    "        self.feature_index = feature_index\n",
    "        self.value = value\n",
    "        self.branches = branches if branches is not None else {}\n",
    "        self.is_leaf = is_leaf\n",
    "\n",
    "class DecisionTreeClassifierCustom:\n",
    "    def __init__(self):\n",
    "        self.tree = None\n",
    "        self.original_feature_names = None\n",
    "\n",
    "    def fit(self, X, y, feature_names):\n",
    "        \"\"\"\n",
    "        Build the decision tree using the training data.\n",
    "          X: 2D array of features.\n",
    "          y: 1D array of labels.\n",
    "          feature_names: list of feature names corresponding to the columns of X.\n",
    "        \"\"\"\n",
    "        self.original_feature_names = feature_names.copy()\n",
    "        self.tree = self._build_tree(X, y, feature_names)\n",
    "\n",
    "    def _build_tree(self, X, y, feature_names):\n",
    "        # If only one class remains, return a leaf node with that class.\n",
    "        if len(np.unique(y)) == 1:\n",
    "            return Node(is_leaf=True, value=y[0])\n",
    "        # If no more features to split on, return a leaf node with the majority class.\n",
    "        if len(feature_names) == 0:\n",
    "            return Node(is_leaf=True, value=most_common(y))\n",
    "\n",
    "        # Compute information gain for each feature in the current feature set.\n",
    "        gains = [information_gain(X, y, i) for i in range(len(feature_names))]\n",
    "        best_feature_index = np.argmax(gains)\n",
    "        best_feature_gain = gains[best_feature_index]\n",
    "        best_feature_name = feature_names[best_feature_index]\n",
    "\n",
    "        # If the best gain is zero, no further splitting is useful.\n",
    "        if best_feature_gain == 0:\n",
    "            return Node(is_leaf=True, value=most_common(y))\n",
    "\n",
    "        # Create an internal node that splits on the best feature.\n",
    "        node = Node(feature_index=best_feature_index, value=best_feature_name, is_leaf=False)\n",
    "        feature_values = np.unique(X[:, best_feature_index])\n",
    "\n",
    "        # For each value of the best feature, build a subtree.\n",
    "        for value in feature_values:\n",
    "            indices = np.where(X[:, best_feature_index] == value)[0]\n",
    "            X_subset = X[indices, :]\n",
    "            y_subset = y[indices]\n",
    "\n",
    "            # Remove the best feature column from X_subset.\n",
    "            X_subset = np.delete(X_subset, best_feature_index, axis=1)\n",
    "            # Remove the corresponding feature name.\n",
    "            new_feature_names = feature_names.copy()\n",
    "            new_feature_names.pop(best_feature_index)\n",
    "\n",
    "            # Recursively build the subtree and assign it to the branch for this feature value.\n",
    "            node.branches[value] = self._build_tree(X_subset, y_subset, new_feature_names)\n",
    "        return node\n",
    "\n",
    "    def predict_sample(self, x, tree, feature_names):\n",
    "        \"\"\"\n",
    "        Recursively traverse the tree to predict the label for a single sample.\n",
    "          x: 1D numpy array representing one sample's feature values.\n",
    "          tree: current node (starting with the root).\n",
    "          feature_names: list of feature names corresponding to x.\n",
    "        \"\"\"\n",
    "        if tree.is_leaf:\n",
    "            return tree.value\n",
    "        index = tree.feature_index\n",
    "        feature_val = x[index]\n",
    "        if feature_val in tree.branches:\n",
    "            subtree = tree.branches[feature_val]\n",
    "        else:\n",
    "            # If a feature value is not present in the branches, fall back to majority class among branches.\n",
    "            predictions = [self._get_majority_class(sub) for sub in tree.branches.values()]\n",
    "            return max(set(predictions), key=predictions.count)\n",
    "        # Remove the used feature from x and feature_names for the recursive call.\n",
    "        new_x = np.delete(x, index)\n",
    "        new_feature_names = feature_names.copy()\n",
    "        new_feature_names.pop(index)\n",
    "        return self.predict_sample(new_x, subtree, new_feature_names)\n",
    "\n",
    "    def predict(self, X):\n",
    "        \"\"\"\n",
    "        Predict labels for a set of instances.\n",
    "          X: 2D numpy array of instances.\n",
    "        \"\"\"\n",
    "        predictions = []\n",
    "        for x in X:\n",
    "            predictions.append(self.predict_sample(x, self.tree, self.original_feature_names.copy()))\n",
    "        return np.array(predictions)\n",
    "\n",
    "    def _get_majority_class(self, node):\n",
    "        \"\"\"Recursively obtain the majority class from the subtree rooted at node.\"\"\"\n",
    "        if node.is_leaf:\n",
    "            return node.value\n",
    "        values = [self._get_majority_class(branch) for branch in node.branches.values()]\n",
    "        return max(set(values), key=values.count)\n"
   ]
  },
  {
   "cell_type": "code",
   "execution_count": 10,
   "id": "9pvWSkMOpJ_O",
   "metadata": {
    "id": "9pvWSkMOpJ_O"
   },
   "outputs": [],
   "source": [
    "def print_tree(node, feature_names, indent=\"\"):\n",
    "    \"\"\"\n",
    "    Recursively prints the structure of the decision tree.\n",
    "      node: current Node.\n",
    "      feature_names: current list of feature names.\n",
    "      indent: string used for indentation (for readability).\n",
    "    \"\"\"\n",
    "    if node.is_leaf:\n",
    "        # For leaves, print the predicted class.\n",
    "        print(indent + \"Leaf:\", node.value)\n",
    "    else:\n",
    "        # For internal nodes, print the feature used.\n",
    "        print(indent + \"Feature:\", node.value)\n",
    "        for branch_val, subtree in node.branches.items():\n",
    "            print(indent + f\" -> If {node.value} == {branch_val}:\")\n",
    "            # Copy feature_names and remove the used feature.\n",
    "            new_feature_names = feature_names.copy()\n",
    "            if node.value in new_feature_names:\n",
    "                new_feature_names.remove(node.value)\n",
    "            print_tree(subtree, new_feature_names, indent + \"    \")\n"
   ]
  },
  {
   "cell_type": "code",
   "execution_count": 11,
   "id": "k8InFABaxWYI",
   "metadata": {
    "colab": {
     "base_uri": "https://localhost:8080/"
    },
    "id": "k8InFABaxWYI",
    "outputId": "0a01e648-cf96-48ef-81d5-770af7592d87"
   },
   "outputs": [
    {
     "name": "stdout",
     "output_type": "stream",
     "text": [
      "\n",
      "Decision Tree Structure:\n",
      "Feature: odor\n",
      " -> If odor == 0:\n",
      "    Leaf: 0\n",
      " -> If odor == 1:\n",
      "    Leaf: 1\n",
      " -> If odor == 2:\n",
      "    Leaf: 1\n",
      " -> If odor == 3:\n",
      "    Leaf: 0\n",
      " -> If odor == 4:\n",
      "    Leaf: 1\n",
      " -> If odor == 5:\n",
      "    Feature: spore-print-color\n",
      "     -> If spore-print-color == 0:\n",
      "        Leaf: 0\n",
      "     -> If spore-print-color == 1:\n",
      "        Leaf: 0\n",
      "     -> If spore-print-color == 2:\n",
      "        Leaf: 0\n",
      "     -> If spore-print-color == 3:\n",
      "        Leaf: 0\n",
      "     -> If spore-print-color == 4:\n",
      "        Leaf: 0\n",
      "     -> If spore-print-color == 5:\n",
      "        Leaf: 1\n",
      "     -> If spore-print-color == 7:\n",
      "        Feature: habitat\n",
      "         -> If habitat == 0:\n",
      "            Feature: gill-size\n",
      "             -> If gill-size == 0:\n",
      "                Leaf: 0\n",
      "             -> If gill-size == 1:\n",
      "                Leaf: 1\n",
      "         -> If habitat == 1:\n",
      "            Leaf: 0\n",
      "         -> If habitat == 2:\n",
      "            Feature: cap-color\n",
      "             -> If cap-color == 1:\n",
      "                Leaf: 0\n",
      "             -> If cap-color == 4:\n",
      "                Leaf: 0\n",
      "             -> If cap-color == 8:\n",
      "                Leaf: 1\n",
      "             -> If cap-color == 9:\n",
      "                Leaf: 1\n",
      "         -> If habitat == 4:\n",
      "            Leaf: 0\n",
      "         -> If habitat == 6:\n",
      "            Leaf: 0\n",
      "     -> If spore-print-color == 8:\n",
      "        Leaf: 0\n",
      " -> If odor == 6:\n",
      "    Leaf: 1\n",
      " -> If odor == 7:\n",
      "    Leaf: 1\n",
      " -> If odor == 8:\n",
      "    Leaf: 1\n"
     ]
    }
   ],
   "source": [
    "from sklearn.model_selection import train_test_split\n",
    "\n",
    "X_train, X_test, y_train, y_test = train_test_split(X, y, test_size=0.3, random_state=42)\n",
    "\n",
    "tree_classifier = DecisionTreeClassifierCustom()\n",
    "tree_classifier.fit(X_train, y_train, feature_names.copy())\n",
    "\n",
    "\n",
    "print(\"\\nDecision Tree Structure:\")\n",
    "print_tree(tree_classifier.tree, feature_names.copy())\n"
   ]
  },
  {
   "cell_type": "code",
   "execution_count": 12,
   "id": "RIg3JgJj83u6",
   "metadata": {
    "colab": {
     "base_uri": "https://localhost:8080/"
    },
    "id": "RIg3JgJj83u6",
    "outputId": "2643f7ef-ac15-42a9-ce2f-bbf1cdf44740"
   },
   "outputs": [
    {
     "name": "stdout",
     "output_type": "stream",
     "text": [
      "Training Accuracy: 100.00%\n",
      "Test Accuracy: 100.00%\n"
     ]
    }
   ],
   "source": [
    "train_preds = tree_classifier.predict(X_train)\n",
    "test_preds = tree_classifier.predict(X_test)\n",
    "\n",
    "train_accuracy = np.mean(train_preds == y_train)\n",
    "test_accuracy = np.mean(test_preds == y_test)\n",
    "\n",
    "print(\"Training Accuracy: {:.2f}%\".format(train_accuracy * 100))\n",
    "print(\"Test Accuracy: {:.2f}%\".format(test_accuracy * 100))\n"
   ]
  },
  {
   "cell_type": "code",
   "execution_count": null,
   "id": "0i1b3nEdrLu3",
   "metadata": {
    "id": "0i1b3nEdrLu3"
   },
   "outputs": [],
   "source": []
  }
 ],
 "metadata": {
  "colab": {
   "provenance": []
  },
  "kernelspec": {
   "display_name": "Python 3 (ipykernel)",
   "language": "python",
   "name": "python3"
  },
  "language_info": {
   "codemirror_mode": {
    "name": "ipython",
    "version": 3
   },
   "file_extension": ".py",
   "mimetype": "text/x-python",
   "name": "python",
   "nbconvert_exporter": "python",
   "pygments_lexer": "ipython3",
   "version": "3.12.4"
  }
 },
 "nbformat": 4,
 "nbformat_minor": 5
}
